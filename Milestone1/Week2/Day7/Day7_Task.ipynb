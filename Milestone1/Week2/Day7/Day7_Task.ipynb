{
  "nbformat": 4,
  "nbformat_minor": 0,
  "metadata": {
    "colab": {
      "provenance": []
    },
    "kernelspec": {
      "name": "python3",
      "display_name": "Python 3"
    },
    "language_info": {
      "name": "python"
    }
  },
  "cells": [
    {
      "cell_type": "code",
      "execution_count": 1,
      "metadata": {
        "id": "UQbvdaUAPEnQ"
      },
      "outputs": [],
      "source": [
        "import pandas as pd\n",
        "import numpy as np\n",
        "from sklearn.impute import KNNImputer"
      ]
    },
    {
      "cell_type": "code",
      "source": [
        "data = {\n",
        "    'Age': [25, np.nan, 30, 22, 40, np.nan, 28],\n",
        "    'Salary': [50000, 60000, np.nan, 52000, 58000, 62000, np.nan],\n",
        "    'City': ['New York', 'Los Angeles', 'New York', np.nan, 'Chicago', 'Chicago', 'Los Angeles'],\n",
        "    'Purchased': ['Yes', 'No', np.nan, 'No', 'Yes', 'Yes', 'No']\n",
        "}"
      ],
      "metadata": {
        "id": "bb9wcDqXPpzs"
      },
      "execution_count": 2,
      "outputs": []
    },
    {
      "cell_type": "code",
      "source": [
        "df_dummy = pd.DataFrame(data)\n",
        "print(\"=== Original Dummy Dataset with Missing Values ===\")\n",
        "print(df_dummy)"
      ],
      "metadata": {
        "colab": {
          "base_uri": "https://localhost:8080/"
        },
        "id": "aIFHQ0hDPu9P",
        "outputId": "e0c06568-95b5-4b8c-a7fd-ab5ba3ebac95"
      },
      "execution_count": 3,
      "outputs": [
        {
          "output_type": "stream",
          "name": "stdout",
          "text": [
            "=== Original Dummy Dataset with Missing Values ===\n",
            "    Age   Salary         City Purchased\n",
            "0  25.0  50000.0     New York       Yes\n",
            "1   NaN  60000.0  Los Angeles        No\n",
            "2  30.0      NaN     New York       NaN\n",
            "3  22.0  52000.0          NaN        No\n",
            "4  40.0  58000.0      Chicago       Yes\n",
            "5   NaN  62000.0      Chicago       Yes\n",
            "6  28.0      NaN  Los Angeles        No\n"
          ]
        }
      ]
    },
    {
      "cell_type": "code",
      "source": [
        "# Count missing values\n",
        "print(\"\\n=== Missing Values Count ===\")\n",
        "print(df_dummy.isnull().sum())"
      ],
      "metadata": {
        "colab": {
          "base_uri": "https://localhost:8080/"
        },
        "id": "NingIYIiPynM",
        "outputId": "24b3de7c-417f-438c-c0a8-4055131b52d0"
      },
      "execution_count": 4,
      "outputs": [
        {
          "output_type": "stream",
          "name": "stdout",
          "text": [
            "\n",
            "=== Missing Values Count ===\n",
            "Age          2\n",
            "Salary       2\n",
            "City         1\n",
            "Purchased    1\n",
            "dtype: int64\n"
          ]
        }
      ]
    },
    {
      "cell_type": "markdown",
      "source": [
        "# TODO: Drop rows/columns with more than 50% missing values\n"
      ],
      "metadata": {
        "id": "X1ibBhoUP9jp"
      }
    },
    {
      "cell_type": "code",
      "source": [
        "df_drop = df_dummy.copy()\n",
        "print(\"\\n=== After Drop Strategy ===\")\n",
        "print(df_drop)"
      ],
      "metadata": {
        "colab": {
          "base_uri": "https://localhost:8080/"
        },
        "id": "LyfHqDphP3SI",
        "outputId": "48e922b3-e816-4e04-997c-48eec877aff7"
      },
      "execution_count": 5,
      "outputs": [
        {
          "output_type": "stream",
          "name": "stdout",
          "text": [
            "\n",
            "=== After Drop Strategy ===\n",
            "    Age   Salary         City Purchased\n",
            "0  25.0  50000.0     New York       Yes\n",
            "1   NaN  60000.0  Los Angeles        No\n",
            "2  30.0      NaN     New York       NaN\n",
            "3  22.0  52000.0          NaN        No\n",
            "4  40.0  58000.0      Chicago       Yes\n",
            "5   NaN  62000.0      Chicago       Yes\n",
            "6  28.0      NaN  Los Angeles        No\n"
          ]
        }
      ]
    },
    {
      "cell_type": "code",
      "source": [
        "df_imputed = df_dummy.copy()\n",
        "\n",
        "# TODO: Impute 'Age' with mean\n",
        "# TODO: Impute 'Salary' with median\n",
        "\n",
        "print(\"\\n=== After Numerical Imputation ===\")\n",
        "print(df_imputed[['Age', 'Salary']])\n"
      ],
      "metadata": {
        "colab": {
          "base_uri": "https://localhost:8080/"
        },
        "id": "DxuQsZFgP8Pd",
        "outputId": "78f28cc0-829e-4ace-ef0b-8d2fd784858f"
      },
      "execution_count": 6,
      "outputs": [
        {
          "output_type": "stream",
          "name": "stdout",
          "text": [
            "\n",
            "=== After Numerical Imputation ===\n",
            "    Age   Salary\n",
            "0  25.0  50000.0\n",
            "1   NaN  60000.0\n",
            "2  30.0      NaN\n",
            "3  22.0  52000.0\n",
            "4  40.0  58000.0\n",
            "5   NaN  62000.0\n",
            "6  28.0      NaN\n"
          ]
        }
      ]
    },
    {
      "cell_type": "code",
      "source": [
        "df_imputed = df_dummy.copy()\n",
        "\n",
        "# TODO: Impute 'Age' with mean\n",
        "# TODO: Impute 'Salary' with median\n",
        "\n",
        "print(\"\\n=== After Numerical Imputation ===\")\n",
        "print(df_imputed[['Age', 'Salary']])"
      ],
      "metadata": {
        "colab": {
          "base_uri": "https://localhost:8080/"
        },
        "id": "jJSuMHEGQHhJ",
        "outputId": "70d3dcad-ede9-4520-864f-0a8b8082475a"
      },
      "execution_count": 7,
      "outputs": [
        {
          "output_type": "stream",
          "name": "stdout",
          "text": [
            "\n",
            "=== After Numerical Imputation ===\n",
            "    Age   Salary\n",
            "0  25.0  50000.0\n",
            "1   NaN  60000.0\n",
            "2  30.0      NaN\n",
            "3  22.0  52000.0\n",
            "4  40.0  58000.0\n",
            "5   NaN  62000.0\n",
            "6  28.0      NaN\n"
          ]
        }
      ]
    },
    {
      "cell_type": "code",
      "source": [
        "# TODO: Impute 'City' and 'Purchased' with mode\n",
        "\n",
        "print(\"\\n=== After Categorical Imputation ===\")\n",
        "print(df_imputed[['City', 'Purchased']])"
      ],
      "metadata": {
        "colab": {
          "base_uri": "https://localhost:8080/"
        },
        "id": "wi2OHJPxQKXA",
        "outputId": "c6b56302-7a7e-4ff9-bc92-726829773939"
      },
      "execution_count": 8,
      "outputs": [
        {
          "output_type": "stream",
          "name": "stdout",
          "text": [
            "\n",
            "=== After Categorical Imputation ===\n",
            "          City Purchased\n",
            "0     New York       Yes\n",
            "1  Los Angeles        No\n",
            "2     New York       NaN\n",
            "3          NaN        No\n",
            "4      Chicago       Yes\n",
            "5      Chicago       Yes\n",
            "6  Los Angeles        No\n"
          ]
        }
      ]
    },
    {
      "cell_type": "code",
      "source": [
        "# TODO: Apply KNN Imputer on numerical columns\n",
        "\n",
        "print(\"\\n=== After KNN Imputation (Numerical Columns) ===\")\n",
        "print(df_imputed[['Age', 'Salary']])"
      ],
      "metadata": {
        "colab": {
          "base_uri": "https://localhost:8080/"
        },
        "id": "ZvGzeCH7QM4k",
        "outputId": "e596242e-56bf-44ea-ec19-dbfc769a79dd"
      },
      "execution_count": 9,
      "outputs": [
        {
          "output_type": "stream",
          "name": "stdout",
          "text": [
            "\n",
            "=== After KNN Imputation (Numerical Columns) ===\n",
            "    Age   Salary\n",
            "0  25.0  50000.0\n",
            "1   NaN  60000.0\n",
            "2  30.0      NaN\n",
            "3  22.0  52000.0\n",
            "4  40.0  58000.0\n",
            "5   NaN  62000.0\n",
            "6  28.0      NaN\n"
          ]
        }
      ]
    },
    {
      "cell_type": "code",
      "source": [
        "# TODO: Verify missing values\n",
        "print(\"\\n=== Missing Values After Imputation ===\")\n",
        "print(df_imputed.isnull().sum())\n",
        "\n",
        "# TODO: Print summary statistics\n",
        "print(\"\\n=== Summary Statistics ===\")\n",
        "print(df_imputed.describe())\n",
        "\n",
        "# TODO: Print unique values of categorical columns\n",
        "print(\"\\n=== Unique Values (City) ===\", df_imputed['City'].unique())\n",
        "print(\"=== Unique Values (Purchased) ===\", df_imputed['Purchased'].unique())"
      ],
      "metadata": {
        "colab": {
          "base_uri": "https://localhost:8080/"
        },
        "id": "RaC6gbfBQQSr",
        "outputId": "a22c7caa-f657-4aa3-eb3f-037229ea350f"
      },
      "execution_count": 10,
      "outputs": [
        {
          "output_type": "stream",
          "name": "stdout",
          "text": [
            "\n",
            "=== Missing Values After Imputation ===\n",
            "Age          2\n",
            "Salary       2\n",
            "City         1\n",
            "Purchased    1\n",
            "dtype: int64\n",
            "\n",
            "=== Summary Statistics ===\n",
            "             Age        Salary\n",
            "count   5.000000      5.000000\n",
            "mean   29.000000  56400.000000\n",
            "std     6.855655   5176.871642\n",
            "min    22.000000  50000.000000\n",
            "25%    25.000000  52000.000000\n",
            "50%    28.000000  58000.000000\n",
            "75%    30.000000  60000.000000\n",
            "max    40.000000  62000.000000\n",
            "\n",
            "=== Unique Values (City) === ['New York' 'Los Angeles' nan 'Chicago']\n",
            "=== Unique Values (Purchased) === ['Yes' 'No' nan]\n"
          ]
        }
      ]
    },
    {
      "cell_type": "code",
      "source": [],
      "metadata": {
        "id": "PPkFyjwiQTw8"
      },
      "execution_count": null,
      "outputs": []
    }
  ]
}