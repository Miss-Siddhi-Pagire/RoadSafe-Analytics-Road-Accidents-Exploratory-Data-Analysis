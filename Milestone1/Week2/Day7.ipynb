{
  "nbformat": 4,
  "nbformat_minor": 0,
  "metadata": {
    "colab": {
      "provenance": []
    },
    "kernelspec": {
      "name": "python3",
      "display_name": "Python 3"
    },
    "language_info": {
      "name": "python"
    }
  },
  "cells": [
    {
      "cell_type": "code",
      "execution_count": 1,
      "metadata": {
        "colab": {
          "base_uri": "https://localhost:8080/"
        },
        "id": "wk2y9zoUNTfU",
        "outputId": "49f3ba9a-5805-492f-ae23-29a46bc0443b"
      },
      "outputs": [
        {
          "output_type": "stream",
          "name": "stdout",
          "text": [
            "Original DataFrame:\n",
            "      A    B    C\n",
            "0  1.0  NaN  1.0\n",
            "1  NaN  NaN  2.0\n",
            "2  3.0  NaN  3.0\n",
            "3  4.0  4.0  NaN\n",
            "4  5.0  5.0  5.0\n",
            "\n",
            "After dropping rows with any missing values:\n",
            "      A    B    C\n",
            "4  5.0  5.0  5.0\n",
            "\n",
            "After dropping columns with any missing values:\n",
            " Empty DataFrame\n",
            "Columns: []\n",
            "Index: [0, 1, 2, 3, 4]\n",
            "\n",
            "After dropping columns with >50% missing values:\n",
            "      A    C\n",
            "0  1.0  1.0\n",
            "1  NaN  2.0\n",
            "2  3.0  3.0\n",
            "3  4.0  NaN\n",
            "4  5.0  5.0\n"
          ]
        }
      ],
      "source": [
        "import pandas as pd\n",
        "import numpy as np\n",
        "\n",
        "# Example DataFrame\n",
        "data = {\n",
        "    'A': [1, np.nan, 3, 4, 5],\n",
        "    'B': [np.nan, np.nan, np.nan, 4, 5],\n",
        "    'C': [1, 2, 3, np.nan, 5]\n",
        "}\n",
        "df = pd.DataFrame(data)\n",
        "print(\"Original DataFrame:\\n\", df)\n",
        "\n",
        "# Drop rows with ANY missing values\n",
        "df_drop_rows = df.dropna(axis=0)\n",
        "print(\"\\nAfter dropping rows with any missing values:\\n\", df_drop_rows)\n",
        "\n",
        "# Drop columns with ANY missing values\n",
        "df_drop_cols = df.dropna(axis=1)\n",
        "print(\"\\nAfter dropping columns with any missing values:\\n\", df_drop_cols)\n",
        "\n",
        "# Drop columns with more than a threshold (e.g., 50%) missing values\n",
        "threshold = 0.5 * len(df)\n",
        "df_drop_threshold = df.dropna(axis=1, thresh=threshold)\n",
        "print(\"\\nAfter dropping columns with >50% missing values:\\n\", df_drop_threshold)\n"
      ]
    },
    {
      "cell_type": "code",
      "source": [
        "df_constant = df.fillna(0)\n",
        "print(\"\\nFill missing values with 0:\\n\", df_constant)\n"
      ],
      "metadata": {
        "colab": {
          "base_uri": "https://localhost:8080/"
        },
        "id": "pRTmBlR6NeQ0",
        "outputId": "aac3449d-e46d-4f90-f421-7cd97aa9afea"
      },
      "execution_count": 2,
      "outputs": [
        {
          "output_type": "stream",
          "name": "stdout",
          "text": [
            "\n",
            "Fill missing values with 0:\n",
            "      A    B    C\n",
            "0  1.0  0.0  1.0\n",
            "1  0.0  0.0  2.0\n",
            "2  3.0  0.0  3.0\n",
            "3  4.0  4.0  0.0\n",
            "4  5.0  5.0  5.0\n"
          ]
        }
      ]
    },
    {
      "cell_type": "code",
      "source": [
        "# Fill numerical columns with mean\n",
        "df_mean = df.fillna(df.mean(numeric_only=True))\n",
        "print(\"\\nFill numerical columns with mean:\\n\", df_mean)\n",
        "\n",
        "# Fill numerical columns with median\n",
        "df_median = df.fillna(df.median(numeric_only=True))\n",
        "print(\"\\nFill numerical columns with median:\\n\", df_median)\n",
        "\n",
        "# Fill categorical columns with mode\n",
        "df_mode = df.apply(lambda x: x.fillna(x.mode()[0]) if x.dtype=='O' else x)\n",
        "print(\"\\nFill categorical columns with mode:\\n\", df_mode)\n"
      ],
      "metadata": {
        "colab": {
          "base_uri": "https://localhost:8080/"
        },
        "id": "bFEMl3o1NlIv",
        "outputId": "7342da48-898f-4e6f-fa93-36d75c252978"
      },
      "execution_count": 3,
      "outputs": [
        {
          "output_type": "stream",
          "name": "stdout",
          "text": [
            "\n",
            "Fill numerical columns with mean:\n",
            "       A    B     C\n",
            "0  1.00  4.5  1.00\n",
            "1  3.25  4.5  2.00\n",
            "2  3.00  4.5  3.00\n",
            "3  4.00  4.0  2.75\n",
            "4  5.00  5.0  5.00\n",
            "\n",
            "Fill numerical columns with median:\n",
            "      A    B    C\n",
            "0  1.0  4.5  1.0\n",
            "1  3.5  4.5  2.0\n",
            "2  3.0  4.5  3.0\n",
            "3  4.0  4.0  2.5\n",
            "4  5.0  5.0  5.0\n",
            "\n",
            "Fill categorical columns with mode:\n",
            "      A    B    C\n",
            "0  1.0  NaN  1.0\n",
            "1  NaN  NaN  2.0\n",
            "2  3.0  NaN  3.0\n",
            "3  4.0  4.0  NaN\n",
            "4  5.0  5.0  5.0\n"
          ]
        }
      ]
    },
    {
      "cell_type": "code",
      "source": [
        "df_ffill = df.fillna(method='ffill')\n",
        "print(\"\\nForward fill missing values:\\n\", df_ffill)\n",
        "\n",
        "df_bfill = df.fillna(method='bfill')\n",
        "print(\"\\nBackward fill missing values:\\n\", df_bfill)\n"
      ],
      "metadata": {
        "colab": {
          "base_uri": "https://localhost:8080/"
        },
        "id": "PEygKi8vNsWv",
        "outputId": "4349cf23-1e2a-4ef4-9d4c-f5e12cfdbb78"
      },
      "execution_count": 4,
      "outputs": [
        {
          "output_type": "stream",
          "name": "stdout",
          "text": [
            "\n",
            "Forward fill missing values:\n",
            "      A    B    C\n",
            "0  1.0  NaN  1.0\n",
            "1  1.0  NaN  2.0\n",
            "2  3.0  NaN  3.0\n",
            "3  4.0  4.0  3.0\n",
            "4  5.0  5.0  5.0\n",
            "\n",
            "Backward fill missing values:\n",
            "      A    B    C\n",
            "0  1.0  4.0  1.0\n",
            "1  3.0  4.0  2.0\n",
            "2  3.0  4.0  3.0\n",
            "3  4.0  4.0  5.0\n",
            "4  5.0  5.0  5.0\n"
          ]
        },
        {
          "output_type": "stream",
          "name": "stderr",
          "text": [
            "/tmp/ipython-input-3791612229.py:1: FutureWarning: DataFrame.fillna with 'method' is deprecated and will raise in a future version. Use obj.ffill() or obj.bfill() instead.\n",
            "  df_ffill = df.fillna(method='ffill')\n",
            "/tmp/ipython-input-3791612229.py:4: FutureWarning: DataFrame.fillna with 'method' is deprecated and will raise in a future version. Use obj.ffill() or obj.bfill() instead.\n",
            "  df_bfill = df.fillna(method='bfill')\n"
          ]
        }
      ]
    },
    {
      "cell_type": "code",
      "source": [
        "from sklearn.impute import KNNImputer\n",
        "\n",
        "knn_imputer = KNNImputer(n_neighbors=2)\n",
        "df_knn = pd.DataFrame(knn_imputer.fit_transform(df), columns=df.columns)\n",
        "print(\"\\nKNN Imputed DataFrame:\\n\", df_knn)\n"
      ],
      "metadata": {
        "colab": {
          "base_uri": "https://localhost:8080/"
        },
        "id": "6-BIHuQuNwMI",
        "outputId": "40f161b2-507f-471f-c4b7-5278a650ddbb"
      },
      "execution_count": 5,
      "outputs": [
        {
          "output_type": "stream",
          "name": "stdout",
          "text": [
            "\n",
            "KNN Imputed DataFrame:\n",
            "      A    B    C\n",
            "0  1.0  4.5  1.0\n",
            "1  2.0  5.0  2.0\n",
            "2  3.0  4.5  3.0\n",
            "3  4.0  4.0  4.0\n",
            "4  5.0  5.0  5.0\n"
          ]
        }
      ]
    },
    {
      "cell_type": "code",
      "source": [],
      "metadata": {
        "id": "Kcu0RRyQN2sQ"
      },
      "execution_count": 6,
      "outputs": []
    },
    {
      "cell_type": "code",
      "source": [],
      "metadata": {
        "id": "6KfbumNoN7zc"
      },
      "execution_count": null,
      "outputs": []
    }
  ]
}