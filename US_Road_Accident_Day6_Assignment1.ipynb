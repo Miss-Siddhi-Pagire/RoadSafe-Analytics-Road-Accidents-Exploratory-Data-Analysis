{
  "nbformat": 4,
  "nbformat_minor": 0,
  "metadata": {
    "colab": {
      "provenance": [],
      "gpuType": "V28"
    },
    "kernelspec": {
      "name": "python3",
      "display_name": "Python 3"
    },
    "language_info": {
      "name": "python"
    },
    "accelerator": "TPU"
  },
  "cells": [
    {
      "cell_type": "code",
      "execution_count": 5,
      "metadata": {
        "colab": {
          "base_uri": "https://localhost:8080/"
        },
        "id": "tKKneYjU7r4H",
        "outputId": "e1941791-4d68-460a-96d5-4f1924c16473"
      },
      "outputs": [
        {
          "output_type": "stream",
          "name": "stdout",
          "text": [
            "Mounted at /content/drive\n"
          ]
        }
      ],
      "source": [
        "from google.colab import drive\n",
        "drive.mount('/content/drive')"
      ]
    },
    {
      "cell_type": "code",
      "source": [
        "import pandas as pd"
      ],
      "metadata": {
        "id": "6Tbcn4zx7zhI"
      },
      "execution_count": 6,
      "outputs": []
    },
    {
      "cell_type": "code",
      "source": [
        "file_path = '/content/drive/MyDrive/US_Accidents.csv'"
      ],
      "metadata": {
        "id": "CItRXL4I9Erl"
      },
      "execution_count": 7,
      "outputs": []
    },
    {
      "cell_type": "code",
      "source": [
        "us_accident_df = pd.read_csv(file_path)"
      ],
      "metadata": {
        "id": "6ZTvq8s59G0d"
      },
      "execution_count": 8,
      "outputs": []
    },
    {
      "cell_type": "code",
      "source": [
        "print(us_accident_df.head())"
      ],
      "metadata": {
        "id": "t2g7uXUJ9JDY",
        "colab": {
          "base_uri": "https://localhost:8080/"
        },
        "outputId": "d528a00d-9660-435a-d85c-2cb836fcb534"
      },
      "execution_count": 10,
      "outputs": [
        {
          "output_type": "stream",
          "name": "stdout",
          "text": [
            "    ID   Source  Severity           Start_Time             End_Time  \\\n",
            "0  A-1  Source2         3  2016-02-08 05:46:00  2016-02-08 11:00:00   \n",
            "1  A-2  Source2         2  2016-02-08 06:07:59  2016-02-08 06:37:59   \n",
            "2  A-3  Source2         2  2016-02-08 06:49:27  2016-02-08 07:19:27   \n",
            "3  A-4  Source2         3  2016-02-08 07:23:34  2016-02-08 07:53:34   \n",
            "4  A-5  Source2         2  2016-02-08 07:39:07  2016-02-08 08:09:07   \n",
            "\n",
            "   Start_Lat  Start_Lng  End_Lat  End_Lng  Distance(mi)  ... Roundabout  \\\n",
            "0  39.865147 -84.058723      NaN      NaN          0.01  ...      False   \n",
            "1  39.928059 -82.831184      NaN      NaN          0.01  ...      False   \n",
            "2  39.063148 -84.032608      NaN      NaN          0.01  ...      False   \n",
            "3  39.747753 -84.205582      NaN      NaN          0.01  ...      False   \n",
            "4  39.627781 -84.188354      NaN      NaN          0.01  ...      False   \n",
            "\n",
            "  Station   Stop Traffic_Calming Traffic_Signal Turning_Loop Sunrise_Sunset  \\\n",
            "0   False  False           False          False        False          Night   \n",
            "1   False  False           False          False        False          Night   \n",
            "2   False  False           False           True        False          Night   \n",
            "3   False  False           False          False        False          Night   \n",
            "4   False  False           False           True        False            Day   \n",
            "\n",
            "  Civil_Twilight Nautical_Twilight Astronomical_Twilight  \n",
            "0          Night             Night                 Night  \n",
            "1          Night             Night                   Day  \n",
            "2          Night               Day                   Day  \n",
            "3            Day               Day                   Day  \n",
            "4            Day               Day                   Day  \n",
            "\n",
            "[5 rows x 46 columns]\n"
          ]
        }
      ]
    },
    {
      "cell_type": "markdown",
      "source": [
        "## 1. How many unique values are there in categorical columns like City, State, and Weather_Condition? Which category is the most frequent in each?\n"
      ],
      "metadata": {
        "id": "56G12Li8VdiJ"
      }
    },
    {
      "cell_type": "code",
      "source": [
        "for col in ['City', 'State', 'Weather_Condition']:\n",
        "    print(f\"Column: {col}\")\n",
        "    print(\"Unique values:\", us_accident_df[col].nunique())\n",
        "    print(\"Most frequent:\", us_accident_df[col].mode()[0])\n",
        "    print(\"Frequency count:\", us_accident_df[col].value_counts().iloc[0])\n",
        "    print(\"\\n\")\n"
      ],
      "metadata": {
        "colab": {
          "base_uri": "https://localhost:8080/"
        },
        "id": "Hc8snyqzNaqA",
        "outputId": "29f5333b-6a4d-430b-c7ef-f77c8a207ddc"
      },
      "execution_count": 12,
      "outputs": [
        {
          "output_type": "stream",
          "name": "stdout",
          "text": [
            "Column: City\n",
            "Unique values: 13678\n",
            "Most frequent: Miami\n",
            "Frequency count: 186917\n",
            "\n",
            "\n",
            "Column: State\n",
            "Unique values: 49\n",
            "Most frequent: CA\n",
            "Frequency count: 1741433\n",
            "\n",
            "\n",
            "Column: Weather_Condition\n",
            "Unique values: 144\n",
            "Most frequent: Fair\n",
            "Frequency count: 2560802\n",
            "\n",
            "\n"
          ]
        }
      ]
    },
    {
      "cell_type": "markdown",
      "source": [
        "## 2.Calculate the percentage of missing values in each column and list columns with more than 5% missing data.\n"
      ],
      "metadata": {
        "id": "k2uQCW8LWc3y"
      }
    },
    {
      "cell_type": "code",
      "source": [
        "missing_percent = (us_accident_df.isnull().sum() / len(us_accident_df)) * 100\n",
        "missing_more_than_5 = missing_percent[missing_percent > 5]\n",
        "print(missing_more_than_5)"
      ],
      "metadata": {
        "colab": {
          "base_uri": "https://localhost:8080/"
        },
        "id": "JN2MbHUxWUvA",
        "outputId": "51290981-155a-43be-eb4b-ba56699d6ee5"
      },
      "execution_count": 14,
      "outputs": [
        {
          "output_type": "stream",
          "name": "stdout",
          "text": [
            "End_Lat              44.029355\n",
            "End_Lng              44.029355\n",
            "Wind_Chill(F)        25.865904\n",
            "Wind_Speed(mph)       7.391355\n",
            "Precipitation(in)    28.512858\n",
            "dtype: float64\n"
          ]
        }
      ]
    },
    {
      "cell_type": "markdown",
      "source": [
        "##3.Convert Start_Time and End_Time columns to datetime objects. Find the range (earliest and latest) of accident start times in the dataset.\n"
      ],
      "metadata": {
        "id": "lCP6jGSmW7aK"
      }
    },
    {
      "cell_type": "code",
      "source": [
        "us_accident_df['Start_Time'] = pd.to_datetime(us_accident_df['Start_Time'], errors='coerce')\n",
        "us_accident_df['End_Time']   = pd.to_datetime(us_accident_df['End_Time'], errors='coerce')\n",
        "print(\"Earliest accident:\", us_accident_df['Start_Time'].min())\n",
        "print(\"\\n\")\n",
        "print(\"Latest accident:\", us_accident_df['Start_Time'].max())\n"
      ],
      "metadata": {
        "colab": {
          "base_uri": "https://localhost:8080/"
        },
        "id": "RU6FkgsgWufi",
        "outputId": "6566541e-47f0-4184-d4d9-2fdb42582f66"
      },
      "execution_count": 24,
      "outputs": [
        {
          "output_type": "stream",
          "name": "stdout",
          "text": [
            "Earliest accident: 2016-01-14 20:18:33\n",
            "\n",
            "\n",
            "Latest accident: 2023-03-31 23:30:00\n"
          ]
        }
      ]
    },
    {
      "cell_type": "markdown",
      "source": [
        "##4.Identify any duplicate records in the dataset based on all columns. How many duplicates exist and how will you handle them?\n"
      ],
      "metadata": {
        "id": "ZGo-Z6jXXdez"
      }
    },
    {
      "cell_type": "code",
      "source": [
        "duplicates = us_accident_df.duplicated().sum()\n",
        "print(\"Number of duplicate rows:\", duplicates)\n",
        "\n",
        "# handling duplicates:\n",
        "us_accident_df = us_accident_df.drop_duplicates()\n",
        "\n"
      ],
      "metadata": {
        "colab": {
          "base_uri": "https://localhost:8080/"
        },
        "id": "sFJJb44LXNqg",
        "outputId": "6032f914-b7a0-4647-dc5a-13fc0b47fe96"
      },
      "execution_count": 17,
      "outputs": [
        {
          "output_type": "stream",
          "name": "stdout",
          "text": [
            "Number of duplicate rows: 0\n"
          ]
        }
      ]
    },
    {
      "cell_type": "markdown",
      "source": [
        "##5.Explore the distribution of accident severity (Severity column). What percentage of accidents belong to each severity level? Visualize this distribution with a pie chart.\n"
      ],
      "metadata": {
        "id": "e_idbdoTYDg_"
      }
    },
    {
      "cell_type": "code",
      "source": [
        "# Severity percentages\n",
        "severity_dist = us_accident_df['Severity'].value_counts(normalize=True) * 100\n",
        "print(severity_dist)"
      ],
      "metadata": {
        "colab": {
          "base_uri": "https://localhost:8080/"
        },
        "id": "NTUfFCc0XmkK",
        "outputId": "ea402781-531c-4c53-9323-bf38327bf31f"
      },
      "execution_count": 19,
      "outputs": [
        {
          "output_type": "stream",
          "name": "stdout",
          "text": [
            "Severity\n",
            "2    79.667017\n",
            "3    16.812510\n",
            "4     2.648804\n",
            "1     0.871669\n",
            "Name: proportion, dtype: float64\n"
          ]
        }
      ]
    },
    {
      "cell_type": "code",
      "source": [
        "# Pie chart\n",
        "severity_dist.plot.pie(autopct='%1.1f%%', figsize=(6,6), title=\"Accident Severity Distribution\")"
      ],
      "metadata": {
        "colab": {
          "base_uri": "https://localhost:8080/",
          "height": 538
        },
        "id": "lv0_KwiIYOyk",
        "outputId": "65074586-e324-493c-f823-1e8ad03ea7a9"
      },
      "execution_count": 20,
      "outputs": [
        {
          "output_type": "execute_result",
          "data": {
            "text/plain": [
              "<Axes: title={'center': 'Accident Severity Distribution'}, ylabel='proportion'>"
            ]
          },
          "metadata": {},
          "execution_count": 20
        },
        {
          "output_type": "display_data",
          "data": {
            "text/plain": [
              "<Figure size 600x600 with 1 Axes>"
            ],
            "image/png": "[encoded data removed]"
          },
          "metadata": {}
        }
      ]
    },
    {
      "cell_type": "code",
      "source": [],
      "metadata": {
        "id": "IjcVWi4dYd5t"
      },
      "execution_count": null,
      "outputs": []
    }
  ]
}